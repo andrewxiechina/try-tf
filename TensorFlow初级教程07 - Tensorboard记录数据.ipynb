{
 "cells": [
  {
   "cell_type": "code",
   "execution_count": 1,
   "metadata": {},
   "outputs": [
    {
     "name": "stderr",
     "output_type": "stream",
     "text": [
      "/Users/andyxie/anaconda3/lib/python3.6/importlib/_bootstrap.py:219: RuntimeWarning: compiletime version 3.5 of module 'tensorflow.python.framework.fast_tensor_util' does not match runtime version 3.6\n",
      "  return f(*args, **kwds)\n"
     ]
    }
   ],
   "source": [
    "import tensorflow as tf"
   ]
  },
  {
   "cell_type": "markdown",
   "metadata": {},
   "source": [
    "# 数据记录的基本流程"
   ]
  },
  {
   "cell_type": "code",
   "execution_count": 2,
   "metadata": {},
   "outputs": [],
   "source": [
    "# 在开始前我们建立一个输入量，并且根据这个输入量做出一个正态分布模型\n",
    "u = tf.placeholder(tf.float32)\n",
    "normal_distribution = tf.random_normal(shape=[1000], mean=u, stddev=0.1)"
   ]
  },
  {
   "cell_type": "code",
   "execution_count": 3,
   "metadata": {},
   "outputs": [
    {
     "data": {
      "text/plain": [
       "<tf.Tensor 'normal_distribution:0' shape=() dtype=string>"
      ]
     },
     "execution_count": 3,
     "metadata": {},
     "output_type": "execute_result"
    }
   ],
   "source": [
    "# 第一步，将记录这个数据的动作记录到summary中\n",
    "tf.summary.histogram(\"normal_distribution\", normal_distribution)"
   ]
  },
  {
   "cell_type": "code",
   "execution_count": 7,
   "metadata": {
    "collapsed": true
   },
   "outputs": [],
   "source": [
    "# 第二步，建立FileWriter并合并全部summary\n",
    "# 这个步骤必须在训练循环开始前完成\n",
    "writer = tf.summary.FileWriter(\"/tmp/histogram_example\")\n",
    "summaries = tf.summary.merge_all()\n"
   ]
  },
  {
   "cell_type": "code",
   "execution_count": 10,
   "metadata": {},
   "outputs": [],
   "source": [
    "# 第三步，在run中运行summary并使用writer写入\n",
    "sess = tf.Session()\n",
    "# 假设这是一个训练循环\n",
    "N = 1000\n",
    "for step in range(N):\n",
    "    u_val = float(step)/float(N)\n",
    "    #计算summary\n",
    "    summary = sess.run(summaries, {u: u_val})\n",
    "    #写入\n",
    "    writer.add_summary(summary, step)"
   ]
  },
  {
   "cell_type": "markdown",
   "metadata": {},
   "source": []
  }
 ],
 "metadata": {
  "kernelspec": {
   "display_name": "Python 3",
   "language": "python",
   "name": "python3"
  },
  "language_info": {
   "codemirror_mode": {
    "name": "ipython",
    "version": 3
   },
   "file_extension": ".py",
   "mimetype": "text/x-python",
   "name": "python",
   "nbconvert_exporter": "python",
   "pygments_lexer": "ipython3",
   "version": "3.6.3"
  }
 },
 "nbformat": 4,
 "nbformat_minor": 2
}
