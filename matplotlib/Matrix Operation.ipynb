{
 "cells": [
  {
   "cell_type": "code",
   "execution_count": 1,
   "metadata": {
    "collapsed": true
   },
   "outputs": [],
   "source": [
    "import numpy as np"
   ]
  },
  {
   "cell_type": "markdown",
   "metadata": {},
   "source": [
    "```\n",
    "## GENERATE ARRAY ##\n",
    "np.arange(10) # array([0, 1, 2, 3, 4, 5, 6, 7, 8, 9])\n",
    "np.empty((3,3)) # empty matrix of size 3 by 3\n",
    "np.ones((3,3)) # matrix of 1\n",
    "np.zeros((3,3)) # matrix of 0\n",
    "np.eye(3) # identity matrix\n",
    "\n",
    "## ELEMENT-WIZE OPERATION ##\n",
    "abs, fabs, sqrt, square, exp, log, log10, log2, log1p, sign, cos, cosh, sin, sinh, \n",
    "tan, tanh, arccos, arccosh, arcsin, arcsinh, arctan, arctanh\n",
    "ceil, floor\n",
    "rint\n",
    "modf\n",
    "isnan, isfinite, isinf\n",
    "logical_not\n",
    "```\n",
    "\n",
    "## MATRIX OPERATIONS ##\n",
    "M = np.arange(6).reshape(2,3) # a matrix, here is array([[0, 1, 2],[3, 4, 5]])\n",
    "M * M # matrix multiplication\n",
    "M + 5 # element-wise add\n",
    "\n",
    "## Indexing and Slicing ##\n",
    "M = np.array([\n",
    "    [1, 2, 3], \n",
    "    [4, 5, 6], \n",
    "    [7, 8, 9]\n",
    "])\n",
    "\n",
    "```"
   ]
  },
  {
   "cell_type": "code",
   "execution_count": 2,
   "metadata": {},
   "outputs": [
    {
     "data": {
      "text/plain": [
       "array([0, 1, 2, 3, 4, 5, 6, 7, 8, 9])"
      ]
     },
     "execution_count": 2,
     "metadata": {},
     "output_type": "execute_result"
    }
   ],
   "source": [
    "np.arange(10) # A list of numbers, function similar to the range() in python"
   ]
  },
  {
   "cell_type": "code",
   "execution_count": 3,
   "metadata": {},
   "outputs": [
    {
     "data": {
      "text/plain": [
       "array([[0, 1, 2],\n",
       "       [3, 4, 5]])"
      ]
     },
     "execution_count": 3,
     "metadata": {},
     "output_type": "execute_result"
    }
   ],
   "source": [
    "M = np.arange(6).reshape(2,3)\n",
    "M"
   ]
  },
  {
   "cell_type": "code",
   "execution_count": 14,
   "metadata": {},
   "outputs": [
    {
     "data": {
      "text/plain": [
       "array([[1, 2, 3],\n",
       "       [4, 5, 6],\n",
       "       [7, 8, 9]])"
      ]
     },
     "execution_count": 14,
     "metadata": {},
     "output_type": "execute_result"
    }
   ],
   "source": [
    "M = np.array([\n",
    "    [1, 2, 3], \n",
    "    [4, 5, 6], \n",
    "    [7, 8, 9]\n",
    "])\n",
    "M"
   ]
  },
  {
   "cell_type": "code",
   "execution_count": 15,
   "metadata": {},
   "outputs": [
    {
     "data": {
      "text/plain": [
       "array([[1, 2],\n",
       "       [4, 5]])"
      ]
     },
     "execution_count": 15,
     "metadata": {},
     "output_type": "execute_result"
    }
   ],
   "source": [
    "M[:2, :2]"
   ]
  },
  {
   "cell_type": "code",
   "execution_count": 16,
   "metadata": {
    "scrolled": true
   },
   "outputs": [
    {
     "data": {
      "text/plain": [
       "array([3, 6, 9])"
      ]
     },
     "execution_count": 16,
     "metadata": {},
     "output_type": "execute_result"
    }
   ],
   "source": [
    "M[:, -1]"
   ]
  },
  {
   "cell_type": "code",
   "execution_count": 17,
   "metadata": {},
   "outputs": [
    {
     "data": {
      "text/plain": [
       "array([4, 5, 6])"
      ]
     },
     "execution_count": 17,
     "metadata": {},
     "output_type": "execute_result"
    }
   ],
   "source": [
    "M[1]"
   ]
  },
  {
   "cell_type": "code",
   "execution_count": 4,
   "metadata": {
    "scrolled": true
   },
   "outputs": [
    {
     "data": {
      "text/plain": [
       "array([[  3.10503618e+231,   3.10503618e+231,   3.38226911e-061],\n",
       "       [  1.16563652e+253,   6.81966575e+246,   1.99110711e+209],\n",
       "       [  1.89124317e+219,   2.26098647e-080,   3.03467606e-086]])"
      ]
     },
     "execution_count": 4,
     "metadata": {},
     "output_type": "execute_result"
    }
   ],
   "source": [
    "np.empty((3,3)) # Create 3 by 3 matrix, the numbers are random"
   ]
  },
  {
   "cell_type": "code",
   "execution_count": 5,
   "metadata": {
    "scrolled": true
   },
   "outputs": [
    {
     "data": {
      "text/plain": [
       "array([[ 1.,  1.,  1.],\n",
       "       [ 1.,  1.,  1.],\n",
       "       [ 1.,  1.,  1.]])"
      ]
     },
     "execution_count": 5,
     "metadata": {},
     "output_type": "execute_result"
    }
   ],
   "source": [
    "np.ones((3,3))"
   ]
  },
  {
   "cell_type": "code",
   "execution_count": 6,
   "metadata": {},
   "outputs": [
    {
     "data": {
      "text/plain": [
       "array([[ 0.,  0.,  0.],\n",
       "       [ 0.,  0.,  0.],\n",
       "       [ 0.,  0.,  0.]])"
      ]
     },
     "execution_count": 6,
     "metadata": {},
     "output_type": "execute_result"
    }
   ],
   "source": [
    "np.zeros((3,3))"
   ]
  },
  {
   "cell_type": "code",
   "execution_count": 7,
   "metadata": {},
   "outputs": [
    {
     "data": {
      "text/plain": [
       "array([[ 1.,  0.,  0.],\n",
       "       [ 0.,  1.,  0.],\n",
       "       [ 0.,  0.,  1.]])"
      ]
     },
     "execution_count": 7,
     "metadata": {},
     "output_type": "execute_result"
    }
   ],
   "source": [
    "np.eye(3) # Identity Matrix"
   ]
  },
  {
   "cell_type": "code",
   "execution_count": 8,
   "metadata": {},
   "outputs": [],
   "source": [
    "img = np.random.random((100,100)) # Create 3 by 3 matrix, the numbers are random"
   ]
  },
  {
   "cell_type": "code",
   "execution_count": 9,
   "metadata": {
    "collapsed": true
   },
   "outputs": [],
   "source": [
    "import matplotlib.pylab as plt\n",
    "%matplotlib inline"
   ]
  },
  {
   "cell_type": "code",
   "execution_count": 10,
   "metadata": {
    "scrolled": true
   },
   "outputs": [
    {
     "data": {
      "text/plain": [
       "<matplotlib.image.AxesImage at 0x1144eeda0>"
      ]
     },
     "execution_count": 10,
     "metadata": {},
     "output_type": "execute_result"
    },
    {
     "data": {
      "image/png": "[encoded data removed]",
      "text/plain": [
       "<matplotlib.figure.Figure at 0x10e94c828>"
      ]
     },
     "metadata": {},
     "output_type": "display_data"
    }
   ],
   "source": [
    "plt.imshow(img, cmap=\"gray\")"
   ]
  },
  {
   "cell_type": "code",
   "execution_count": 11,
   "metadata": {
    "scrolled": true
   },
   "outputs": [
    {
     "data": {
      "text/plain": [
       "array([[ 0.94686375,  0.10496915,  0.47812696, ...,  0.16819588,\n",
       "         0.85734086,  0.25361003],\n",
       "       [ 0.56386791,  0.17099685,  0.24686152, ...,  0.31203719,\n",
       "         0.50260949,  0.33221355],\n",
       "       [ 0.94492635,  0.10247146,  0.27892426, ...,  0.28913576,\n",
       "         0.74832492,  0.19475082],\n",
       "       ..., \n",
       "       [ 0.44482058,  0.11404919,  0.83779483, ...,  0.2757288 ,\n",
       "         0.98987032,  0.33491205],\n",
       "       [ 0.32733865,  0.92388437,  0.6975229 , ...,  0.87086573,\n",
       "         0.08737111,  0.2903177 ],\n",
       "       [ 0.27380766,  0.79571458,  0.62588612, ...,  0.94801087,\n",
       "         0.49003621,  0.08854976]])"
      ]
     },
     "execution_count": 11,
     "metadata": {},
     "output_type": "execute_result"
    }
   ],
   "source": [
    "img"
   ]
  },
  {
   "cell_type": "code",
   "execution_count": 12,
   "metadata": {},
   "outputs": [
    {
     "data": {
      "text/plain": [
       "array([[ 5,  6,  7,  8],\n",
       "       [ 9, 10, 11, 12],\n",
       "       [13, 14, 15, 16]])"
      ]
     },
     "execution_count": 12,
     "metadata": {},
     "output_type": "execute_result"
    }
   ],
   "source": [
    "np.arange(12).reshape(3,4) + 5"
   ]
  },
  {
   "cell_type": "code",
   "execution_count": 18,
   "metadata": {
    "collapsed": true
   },
   "outputs": [],
   "source": [
    "?np.linalg"
   ]
  },
  {
   "cell_type": "markdown",
   "metadata": {},
   "source": [
    "```\n",
    "array([[ 5,  6,  7,  8],\n",
    "       [ 9, 10, 11, 12],\n",
    "       [13, 14, 15, 16]])\n",
    "```"
   ]
  },
  {
   "cell_type": "markdown",
   "metadata": {},
   "source": [
    "```\n",
    "- norm            Vector or matrix norm\n",
    "- inv             Inverse of a square matrix\n",
    "- solve           Solve a linear system of equations\n",
    "- det             Determinant of a square matrix\n",
    "- lstsq           Solve linear least-squares problem\n",
    "- pinv            Pseudo-inverse (Moore-Penrose) calculated using a singular\n",
    "                  value decomposition\n",
    "- matrix_power    Integer power of a square matrix\n",
    "\n",
    "Eigenvalues and decompositions:\n",
    "\n",
    "- eig             Eigenvalues and vectors of a square matrix\n",
    "- eigh            Eigenvalues and eigenvectors of a Hermitian matrix\n",
    "- eigvals         Eigenvalues of a square matrix\n",
    "- eigvalsh        Eigenvalues of a Hermitian matrix\n",
    "- qr              QR decomposition of a matrix\n",
    "- svd             Singular value decomposition of a matrix\n",
    "- cholesky        Cholesky decomposition of a matrix\n",
    "\n",
    "Tensor operations:\n",
    "\n",
    "- tensorsolve     Solve a linear tensor equation\n",
    "- tensorinv       Calculate an inverse of a tensor\n",
    "\n",
    "Exceptions:\n",
    "\n",
    "- LinAlgError     Indicates a failed linear algebra operation\n",
    "```"
   ]
  }
 ],
 "metadata": {
  "kernelspec": {
   "display_name": "Python 3",
   "language": "python",
   "name": "python3"
  },
  "language_info": {
   "codemirror_mode": {
    "name": "ipython",
    "version": 3
   },
   "file_extension": ".py",
   "mimetype": "text/x-python",
   "name": "python",
   "nbconvert_exporter": "python",
   "pygments_lexer": "ipython3",
   "version": "3.6.3"
  }
 },
 "nbformat": 4,
 "nbformat_minor": 2
}
