{
 "cells": [
  {
   "cell_type": "code",
   "execution_count": 1,
   "metadata": {
    "scrolled": true
   },
   "outputs": [
    {
     "name": "stderr",
     "output_type": "stream",
     "text": [
      "/Users/andyxie/anaconda3/lib/python3.6/importlib/_bootstrap.py:219: RuntimeWarning: compiletime version 3.5 of module 'tensorflow.python.framework.fast_tensor_util' does not match runtime version 3.6\n",
      "  return f(*args, **kwds)\n"
     ]
    }
   ],
   "source": [
    "import os\n",
    "from six.moves.urllib.request import urlopen\n",
    "\n",
    "import numpy as np\n",
    "import tensorflow as tf"
   ]
  },
  {
   "cell_type": "markdown",
   "metadata": {},
   "source": [
    "# 介绍\n",
    "Iris是两种花的数据集，根据性状不同，可以将花进行分类。这里使用它作为Estimator的教学。"
   ]
  },
  {
   "cell_type": "markdown",
   "metadata": {},
   "source": [
    "# 获取数据\n",
    "首先，我们将网上的数据进行下载然后存到本地，之后，我们使用tf的内置函数倒入csv数据。我们还会讨论使用pandas和numpy进行同一作业的方法。"
   ]
  },
  {
   "cell_type": "code",
   "execution_count": 3,
   "metadata": {},
   "outputs": [],
   "source": [
    "IRIS_TRAINING = \"../input/iris_training.csv\"\n",
    "IRIS_TRAINING_URL = \"http://download.tensorflow.org/data/iris_training.csv\"\n",
    "\n",
    "IRIS_TEST = \"../input/iris_test.csv\"\n",
    "IRIS_TEST_URL = \"http://download.tensorflow.org/data/iris_test.csv\"\n",
    "#倒入数据并存在本地\n",
    "if not os.path.exists(IRIS_TRAINING):\n",
    "    raw = urlopen(IRIS_TRAINING_URL).read()\n",
    "    with open(IRIS_TRAINING, \"wb\") as f:\n",
    "          f.write(raw)\n",
    "\n",
    "if not os.path.exists(IRIS_TEST):\n",
    "    raw = urlopen(IRIS_TEST_URL).read()\n",
    "    with open(IRIS_TEST, \"wb\") as f:\n",
    "          f.write(raw)"
   ]
  },
  {
   "cell_type": "code",
   "execution_count": 4,
   "metadata": {
    "collapsed": true
   },
   "outputs": [],
   "source": [
    "# 使用tf内建方法倒入数据\n",
    "training_set = tf.contrib.learn.datasets.base.load_csv_with_header(\n",
    "    filename=IRIS_TRAINING,\n",
    "    target_dtype=np.int,\n",
    "    features_dtype=np.float32)\n",
    "test_set = tf.contrib.learn.datasets.base.load_csv_with_header(\n",
    "    filename=IRIS_TEST,\n",
    "    target_dtype=np.int,\n",
    "    features_dtype=np.float32)"
   ]
  },
  {
   "cell_type": "code",
   "execution_count": 5,
   "metadata": {},
   "outputs": [
    {
     "data": {
      "text/plain": [
       "(120, 4)"
      ]
     },
     "execution_count": 5,
     "metadata": {},
     "output_type": "execute_result"
    }
   ],
   "source": [
    "training_set.data.shape # 数据共有120行，每行四个参数"
   ]
  },
  {
   "cell_type": "code",
   "execution_count": 7,
   "metadata": {},
   "outputs": [
    {
     "name": "stdout",
     "output_type": "stream",
     "text": [
      "INFO:tensorflow:Using default config.\n",
      "INFO:tensorflow:Using config: {'_model_dir': '/tmp/iris_model', '_tf_random_seed': None, '_save_summary_steps': 100, '_save_checkpoints_steps': None, '_save_checkpoints_secs': 600, '_session_config': None, '_keep_checkpoint_max': 5, '_keep_checkpoint_every_n_hours': 10000, '_log_step_count_steps': 100, '_service': None, '_cluster_spec': <tensorflow.python.training.server_lib.ClusterSpec object at 0x1a15d646d8>, '_task_type': 'worker', '_task_id': 0, '_master': '', '_is_chief': True, '_num_ps_replicas': 0, '_num_worker_replicas': 1}\n"
     ]
    }
   ],
   "source": [
    "# 描述输入值格式\n",
    "feature_columns = [tf.feature_column.numeric_column(\"x\", shape=[4])]\n",
    "\n",
    "# 建立模型\n",
    "classifier = tf.estimator.DNNClassifier(feature_columns=feature_columns,\n",
    "                                          hidden_units=[10, 20, 10],\n",
    "                                          n_classes=3,\n",
    "                                          model_dir=\"/tmp/iris_model\")\n",
    " "
   ]
  },
  {
   "cell_type": "code",
   "execution_count": 8,
   "metadata": {},
   "outputs": [
    {
     "name": "stdout",
     "output_type": "stream",
     "text": [
      "INFO:tensorflow:Create CheckpointSaverHook.\n",
      "INFO:tensorflow:Restoring parameters from /tmp/iris_model/model.ckpt-2000\n",
      "INFO:tensorflow:Saving checkpoints for 2001 into /tmp/iris_model/model.ckpt.\n",
      "INFO:tensorflow:loss = 6.04717, step = 2001\n",
      "INFO:tensorflow:global_step/sec: 386.536\n",
      "INFO:tensorflow:loss = 4.89154, step = 2101 (0.260 sec)\n",
      "INFO:tensorflow:global_step/sec: 508.083\n",
      "INFO:tensorflow:loss = 4.41077, step = 2201 (0.198 sec)\n",
      "INFO:tensorflow:global_step/sec: 450.096\n",
      "INFO:tensorflow:loss = 7.85771, step = 2301 (0.226 sec)\n",
      "INFO:tensorflow:global_step/sec: 462.783\n",
      "INFO:tensorflow:loss = 4.06811, step = 2401 (0.213 sec)\n",
      "INFO:tensorflow:global_step/sec: 420.907\n",
      "INFO:tensorflow:loss = 3.07601, step = 2501 (0.240 sec)\n",
      "INFO:tensorflow:global_step/sec: 424.849\n",
      "INFO:tensorflow:loss = 9.86563, step = 2601 (0.238 sec)\n",
      "INFO:tensorflow:global_step/sec: 341.628\n",
      "INFO:tensorflow:loss = 3.13311, step = 2701 (0.287 sec)\n",
      "INFO:tensorflow:global_step/sec: 501.902\n",
      "INFO:tensorflow:loss = 5.30232, step = 2801 (0.199 sec)\n",
      "INFO:tensorflow:global_step/sec: 488.866\n",
      "INFO:tensorflow:loss = 5.36103, step = 2901 (0.205 sec)\n",
      "INFO:tensorflow:global_step/sec: 353.608\n",
      "INFO:tensorflow:loss = 2.9685, step = 3001 (0.286 sec)\n",
      "INFO:tensorflow:global_step/sec: 304.059\n",
      "INFO:tensorflow:loss = 4.21111, step = 3101 (0.330 sec)\n",
      "INFO:tensorflow:global_step/sec: 368.052\n",
      "INFO:tensorflow:loss = 2.21008, step = 3201 (0.269 sec)\n",
      "INFO:tensorflow:global_step/sec: 406.029\n",
      "INFO:tensorflow:loss = 7.26071, step = 3301 (0.245 sec)\n",
      "INFO:tensorflow:global_step/sec: 330.784\n",
      "INFO:tensorflow:loss = 6.85389, step = 3401 (0.304 sec)\n",
      "INFO:tensorflow:global_step/sec: 347.687\n",
      "INFO:tensorflow:loss = 9.28545, step = 3501 (0.286 sec)\n",
      "INFO:tensorflow:global_step/sec: 537.739\n",
      "INFO:tensorflow:loss = 3.72033, step = 3601 (0.187 sec)\n",
      "INFO:tensorflow:global_step/sec: 337.393\n",
      "INFO:tensorflow:loss = 2.73062, step = 3701 (0.298 sec)\n",
      "INFO:tensorflow:global_step/sec: 319.557\n",
      "INFO:tensorflow:loss = 6.30535, step = 3801 (0.312 sec)\n",
      "INFO:tensorflow:global_step/sec: 374.032\n",
      "INFO:tensorflow:loss = 6.85174, step = 3901 (0.270 sec)\n",
      "INFO:tensorflow:Saving checkpoints for 4000 into /tmp/iris_model/model.ckpt.\n",
      "INFO:tensorflow:Loss for final step: 2.79768.\n"
     ]
    },
    {
     "data": {
      "text/plain": [
       "<tensorflow.python.estimator.canned.dnn.DNNClassifier at 0x1a15d64518>"
      ]
     },
     "execution_count": 8,
     "metadata": {},
     "output_type": "execute_result"
    }
   ],
   "source": [
    "# 将数据装入input_fn\n",
    "train_input_fn = tf.estimator.inputs.numpy_input_fn(\n",
    "  x={\"x\": np.array(training_set.data)},\n",
    "  y=np.array(training_set.target),\n",
    "  num_epochs=None,\n",
    "  shuffle=True)  \n",
    "# 进行训练\n",
    "classifier.train(input_fn=train_input_fn, steps=2000)"
   ]
  },
  {
   "cell_type": "markdown",
   "metadata": {},
   "source": [
    "# 验证和预测\n",
    "验证和预测的语法基本可以参考训练。"
   ]
  },
  {
   "cell_type": "code",
   "execution_count": 9,
   "metadata": {},
   "outputs": [
    {
     "name": "stdout",
     "output_type": "stream",
     "text": [
      "INFO:tensorflow:Starting evaluation at 2017-11-22-11:53:00\n",
      "INFO:tensorflow:Restoring parameters from /tmp/iris_model/model.ckpt-4000\n",
      "INFO:tensorflow:Finished evaluation at 2017-11-22-11:53:00\n",
      "INFO:tensorflow:Saving dict for global step 4000: accuracy = 0.966667, average_loss = 0.0733964, global_step = 4000, loss = 2.20189\n"
     ]
    },
    {
     "data": {
      "text/plain": [
       "{'accuracy': 0.96666664,\n",
       " 'average_loss': 0.073396429,\n",
       " 'global_step': 4000,\n",
       " 'loss': 2.2018929}"
      ]
     },
     "execution_count": 9,
     "metadata": {},
     "output_type": "execute_result"
    }
   ],
   "source": [
    "# 将测试数据放入函数\n",
    "test_input_fn = tf.estimator.inputs.numpy_input_fn(\n",
    "      x={\"x\": np.array(test_set.data)},\n",
    "      y=np.array(test_set.target),\n",
    "      num_epochs=1,\n",
    "      shuffle=False)\n",
    "\n",
    "# 使用evaluate函数即可得到包括loss，accuracy在内的很多常用量\n",
    "# 但是怎样进行自定义呢？？\n",
    "classifier.evaluate(input_fn=test_input_fn)\n"
   ]
  },
  {
   "cell_type": "code",
   "execution_count": 14,
   "metadata": {},
   "outputs": [
    {
     "name": "stdout",
     "output_type": "stream",
     "text": [
      "INFO:tensorflow:Restoring parameters from /tmp/iris_model/model.ckpt-4000\n",
      "Prediction 1: [b'1']\n",
      "Prediction 2: [b'2']\n"
     ]
    }
   ],
   "source": [
    "new_samples = np.array(\n",
    "      [[6.4, 3.2, 4.5, 1.5],\n",
    "       [5.8, 3.1, 5.0, 1.7]], dtype=np.float32)\n",
    "predict_input_fn = tf.estimator.inputs.numpy_input_fn(\n",
    "  x={\"x\": new_samples},\n",
    "  num_epochs=1,\n",
    "  shuffle=False)\n",
    "predictions = classifier.predict(input_fn=predict_input_fn)\n",
    "for i, p in enumerate(predictions):\n",
    "  print(\"Prediction %s: %s\" % (i + 1, p[\"classes\"])) #predict 的返回值包含很多内容，需要选择"
   ]
  }
 ],
 "metadata": {
  "kernelspec": {
   "display_name": "Python 3",
   "language": "python",
   "name": "python3"
  },
  "language_info": {
   "codemirror_mode": {
    "name": "ipython",
    "version": 3
   },
   "file_extension": ".py",
   "mimetype": "text/x-python",
   "name": "python",
   "nbconvert_exporter": "python",
   "pygments_lexer": "ipython3",
   "version": "3.6.3"
  }
 },
 "nbformat": 4,
 "nbformat_minor": 2
}
