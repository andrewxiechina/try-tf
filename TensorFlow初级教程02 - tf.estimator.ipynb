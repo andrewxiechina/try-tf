{
 "cells": [
  {
   "cell_type": "code",
   "execution_count": 1,
   "metadata": {},
   "outputs": [
    {
     "name": "stderr",
     "output_type": "stream",
     "text": [
      "/Users/andyxie/anaconda3/lib/python3.6/importlib/_bootstrap.py:219: RuntimeWarning: compiletime version 3.5 of module 'tensorflow.python.framework.fast_tensor_util' does not match runtime version 3.6\n",
      "  return f(*args, **kwds)\n"
     ]
    }
   ],
   "source": [
    "import numpy as np\n",
    "import tensorflow as tf"
   ]
  },
  {
   "cell_type": "markdown",
   "metadata": {},
   "source": [
    "# 介绍"
   ]
  },
  {
   "cell_type": "markdown",
   "metadata": {},
   "source": [
    "# 例子：线性回归"
   ]
  },
  {
   "cell_type": "code",
   "execution_count": 2,
   "metadata": {
    "collapsed": true
   },
   "outputs": [],
   "source": [
    "# 我们将重新使用estimator做一次线性回归，这一次我们还有了一组test数据\n",
    "x_train = np.array([1., 2., 3., 4.])\n",
    "y_train = np.array([0., -1., -2., -3.])\n",
    "x_test = np.array([2., 5., 8., 1.])\n",
    "y_test = np.array([-1.01, -4.1, -7, 0.])"
   ]
  },
  {
   "cell_type": "code",
   "execution_count": 7,
   "metadata": {},
   "outputs": [
    {
     "name": "stdout",
     "output_type": "stream",
     "text": [
      "INFO:tensorflow:Using default config.\n",
      "WARNING:tensorflow:Using temporary folder as model directory: /var/folders/fz/y59hb15j1b1_ny8tfkvcj03000qswk/T/tmphljvwh1i\n",
      "INFO:tensorflow:Using config: {'_model_dir': '/var/folders/fz/y59hb15j1b1_ny8tfkvcj03000qswk/T/tmphljvwh1i', '_tf_random_seed': None, '_save_summary_steps': 100, '_save_checkpoints_steps': None, '_save_checkpoints_secs': 600, '_session_config': None, '_keep_checkpoint_max': 5, '_keep_checkpoint_every_n_hours': 10000, '_log_step_count_steps': 100, '_service': None, '_cluster_spec': <tensorflow.python.training.server_lib.ClusterSpec object at 0x181740cf28>, '_task_type': 'worker', '_task_id': 0, '_master': '', '_is_chief': True, '_num_ps_replicas': 0, '_num_worker_replicas': 1}\n",
      "INFO:tensorflow:Create CheckpointSaverHook.\n",
      "INFO:tensorflow:Saving checkpoints for 1 into /var/folders/fz/y59hb15j1b1_ny8tfkvcj03000qswk/T/tmphljvwh1i/model.ckpt.\n",
      "INFO:tensorflow:loss = 17.0, step = 1\n",
      "INFO:tensorflow:global_step/sec: 1656.7\n",
      "INFO:tensorflow:loss = 0.0957528, step = 101 (0.062 sec)\n",
      "INFO:tensorflow:global_step/sec: 2205.51\n",
      "INFO:tensorflow:loss = 0.0974099, step = 201 (0.047 sec)\n",
      "INFO:tensorflow:global_step/sec: 1928.27\n",
      "INFO:tensorflow:loss = 0.0149582, step = 301 (0.050 sec)\n",
      "INFO:tensorflow:global_step/sec: 2166.28\n",
      "INFO:tensorflow:loss = 0.00183926, step = 401 (0.046 sec)\n",
      "INFO:tensorflow:global_step/sec: 1742.23\n",
      "INFO:tensorflow:loss = 0.000905659, step = 501 (0.058 sec)\n",
      "INFO:tensorflow:global_step/sec: 1684.52\n",
      "INFO:tensorflow:loss = 0.000286542, step = 601 (0.058 sec)\n",
      "INFO:tensorflow:global_step/sec: 1905.06\n",
      "INFO:tensorflow:loss = 2.53454e-05, step = 701 (0.052 sec)\n",
      "INFO:tensorflow:global_step/sec: 1833.98\n",
      "INFO:tensorflow:loss = 1.626e-05, step = 801 (0.055 sec)\n",
      "INFO:tensorflow:global_step/sec: 1890.54\n",
      "INFO:tensorflow:loss = 1.10228e-06, step = 901 (0.053 sec)\n",
      "INFO:tensorflow:Saving checkpoints for 1000 into /var/folders/fz/y59hb15j1b1_ny8tfkvcj03000qswk/T/tmphljvwh1i/model.ckpt.\n",
      "INFO:tensorflow:Loss for final step: 2.53173e-07.\n"
     ]
    },
    {
     "data": {
      "text/plain": [
       "<tensorflow.python.estimator.canned.linear.LinearRegressor at 0x181742da20>"
      ]
     },
     "execution_count": 7,
     "metadata": {},
     "output_type": "execute_result"
    }
   ],
   "source": [
    "# 首先我们需要定义输入量，X, 这里只有一个值，所以shape=[1]\n",
    "feature_columns = [tf.feature_column.numeric_column(\"x\", shape=[1])]\n",
    "# 线性回归模型TF已经准备好了，在estimator下就有\n",
    "estimator = tf.estimator.LinearRegressor(feature_columns)\n",
    "\n",
    "# 下面将数值（x_train，y_train)传入模型，首先需要定义一个函数\n",
    "input_fn = tf.estimator.inputs.numpy_input_fn(\n",
    "    {\"x\": x_train}, y_train, batch_size=4, num_epochs=None, shuffle=True)\n",
    "# train函数将自动进行梯度下降操作，实际上estimator的内部工作机制更加复杂，在过程中还会有输出，并自动存储模型参数\n",
    "estimator.train(input_fn=input_fn, steps=1000)\n"
   ]
  },
  {
   "cell_type": "code",
   "execution_count": 10,
   "metadata": {},
   "outputs": [
    {
     "name": "stdout",
     "output_type": "stream",
     "text": [
      "INFO:tensorflow:Starting evaluation at 2017-11-22-05:40:18\n",
      "INFO:tensorflow:Restoring parameters from /var/folders/fz/y59hb15j1b1_ny8tfkvcj03000qswk/T/tmphljvwh1i/model.ckpt-2000\n",
      "INFO:tensorflow:Finished evaluation at 2017-11-22-05:40:19\n",
      "INFO:tensorflow:Saving dict for global step 2000: average_loss = 4.66294e-13, global_step = 2000, loss = 1.86517e-12\n",
      "INFO:tensorflow:Starting evaluation at 2017-11-22-05:40:19\n",
      "INFO:tensorflow:Restoring parameters from /var/folders/fz/y59hb15j1b1_ny8tfkvcj03000qswk/T/tmphljvwh1i/model.ckpt-2000\n",
      "INFO:tensorflow:Finished evaluation at 2017-11-22-05:40:19\n",
      "INFO:tensorflow:Saving dict for global step 2000: average_loss = 0.00252507, global_step = 2000, loss = 0.0101003\n",
      "train metrics: {'average_loss': 4.6629367e-13, 'loss': 1.8651747e-12, 'global_step': 2000}\n",
      "eval metrics: {'average_loss': 0.0025250721, 'loss': 0.010100288, 'global_step': 2000}\n"
     ]
    }
   ],
   "source": [
    "# 如果想计算test数据集的相关数据，语法和上面也类似\n",
    "eval_input_fn = tf.estimator.inputs.numpy_input_fn(\n",
    "    {\"x\": x_test}, y_test, batch_size=4, num_epochs=1000, shuffle=False)\n",
    "eval_metrics = estimator.evaluate(input_fn=eval_input_fn)\n",
    "print(\"eval metrics: %r\"% eval_metrics)"
   ]
  },
  {
   "cell_type": "code",
   "execution_count": null,
   "metadata": {
    "collapsed": true
   },
   "outputs": [],
   "source": [
    "# 最后，如果要使用\n",
    "def model_fn(features, labels, mode):\n",
    "  # Build a linear model and predict values\n",
    "  W = tf.get_variable(\"W\", [1], dtype=tf.float64)\n",
    "  b = tf.get_variable(\"b\", [1], dtype=tf.float64)\n",
    "  y = W*features['x'] + b\n",
    "  # Loss sub-graph\n",
    "  loss = tf.reduce_sum(tf.square(y - labels))\n",
    "  # Training sub-graph\n",
    "  global_step = tf.train.get_global_step()\n",
    "  optimizer = tf.train.GradientDescentOptimizer(0.01)\n",
    "  train = tf.group(optimizer.minimize(loss),\n",
    "                   tf.assign_add(global_step, 1))\n",
    "  # EstimatorSpec connects subgraphs we built to the\n",
    "  # appropriate functionality.\n",
    "  return tf.estimator.EstimatorSpec(\n",
    "      mode=mode,\n",
    "      predictions=y,\n",
    "      loss=loss,\n",
    "      train_op=train)\n",
    "\n",
    "estimator = tf.estimator.Estimator(model_fn=model_fn)"
   ]
  },
  {
   "cell_type": "code",
   "execution_count": null,
   "metadata": {
    "collapsed": true
   },
   "outputs": [],
   "source": []
  }
 ],
 "metadata": {
  "kernelspec": {
   "display_name": "Python 3",
   "language": "python",
   "name": "python3"
  },
  "language_info": {
   "codemirror_mode": {
    "name": "ipython",
    "version": 3
   },
   "file_extension": ".py",
   "mimetype": "text/x-python",
   "name": "python",
   "nbconvert_exporter": "python",
   "pygments_lexer": "ipython3",
   "version": "3.6.3"
  }
 },
 "nbformat": 4,
 "nbformat_minor": 2
}
