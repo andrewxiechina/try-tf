{
 "cells": [
  {
   "cell_type": "markdown",
   "metadata": {},
   "source": [
    "# Content\n",
    "\n",
    "## Matplotlib\n",
    "- Basic Line Plot\n",
    "- Basic Scatter Plot with Styling\n",
    "- Plot Function Curve\n",
    "- Multiple Sub-plots\n",
    "- Plot continuous data\n",
    "- Plot categorical data\n",
    "- Plot 3D\n",
    "- Plot location\n",
    "- Plot time series\n",
    "- Bar chart\n",
    "- Animation\n",
    "- Bubble Chart\n",
    "- Annotation\n",
    "- Vector Space\n",
    "- Heat Map"
   ]
  }
 ],
 "metadata": {
  "kernelspec": {
   "display_name": "Python 3",
   "language": "python",
   "name": "python3"
  },
  "language_info": {
   "codemirror_mode": {
    "name": "ipython",
    "version": 3
   },
   "file_extension": ".py",
   "mimetype": "text/x-python",
   "name": "python",
   "nbconvert_exporter": "python",
   "pygments_lexer": "ipython3",
   "version": "3.6.3"
  }
 },
 "nbformat": 4,
 "nbformat_minor": 2
}
